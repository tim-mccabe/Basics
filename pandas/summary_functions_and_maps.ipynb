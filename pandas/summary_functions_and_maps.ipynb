{
 "cells": [
  {
   "cell_type": "code",
   "execution_count": 1,
   "metadata": {},
   "outputs": [],
   "source": [
    "# This file contains a few basic functions of pandas indexing, selecting, and assigning to refer back to when writing new code\n",
    "import pandas as pd"
   ]
  },
  {
   "cell_type": "code",
   "execution_count": null,
   "metadata": {},
   "outputs": [],
   "source": [
    "# What is the median of the points column in the reviews DataFrame?\n",
    "\n",
    "median_points = reviews.points.median()"
   ]
  },
  {
   "cell_type": "code",
   "execution_count": null,
   "metadata": {},
   "outputs": [],
   "source": [
    "# What countries are represented in the dataset?\n",
    "\n",
    "countries = reviews.country.unique()"
   ]
  },
  {
   "cell_type": "code",
   "execution_count": null,
   "metadata": {},
   "outputs": [],
   "source": [
    "# How often does each country appear in the dataset? Create a Series reviews_per_country mapping countries to the \n",
    "# count of reviews of winesfrom that country\n",
    "\n",
    "reviews_per_country = reviews.country.value_counts()"
   ]
  },
  {
   "cell_type": "code",
   "execution_count": null,
   "metadata": {},
   "outputs": [],
   "source": [
    "# Create variable centered_price containing a version of the price column with the mean price subtracted.\n",
    "\n",
    "mean_price = reviews.price.mean()\n",
    "centered_price = reviews.price - mean_price"
   ]
  },
  {
   "cell_type": "code",
   "execution_count": null,
   "metadata": {},
   "outputs": [],
   "source": [
    "# I'm an economical wine buyer. Which wine is the \"best bargain\"? Create a variable bargain_wine with the title \n",
    "# of the wine with the highest points-to-price ratio in the dataset\n",
    "\n",
    "points_to_price = (reviews.points / reviews.price).idxmax\n",
    "bargain_wine = reviews.loc[points_to_price, \"title\"]"
   ]
  },
  {
   "cell_type": "code",
   "execution_count": null,
   "metadata": {},
   "outputs": [],
   "source": [
    "# There are only so many words you can use when describing a bottle of wine. Is a wine more likely \n",
    "# to be \"tropical\" or \"fruity\"? Create a Series descriptor_counts counting how many times each of these \n",
    "# two words appears in the description column in the dataset\n",
    "\n",
    "trop = reviews.description.map(lambda desc: \"tropical\" in desc).sum()\n",
    "fruit = reviews.description.map(lambda desc: \"fruity\" in desc).sum()\n",
    "\n",
    "descriptor_counts = pd.Series([trop, fruit], index=['tropical', \"fruity\"])"
   ]
  },
  {
   "cell_type": "code",
   "execution_count": null,
   "metadata": {},
   "outputs": [],
   "source": [
    "# We'd like to host these wine reviews on our website, but a rating system ranging from 80 to 100 points is \n",
    "# too hard to understand - we'd like to translate them into simple star ratings. A score of 95 or higher \n",
    "# counts as 3 stars, a score of at least 85 but less than 95 is 2 stars. Any other score is 1 star.\n",
    "\n",
    "# Also, the Canadian Vintners Association bought a lot of ads on the site, so any wines from Canada \n",
    "# should automatically get 3 stars, regardless of points.\n",
    "\n",
    "# Create a series star_ratings with the number of stars corresponding to each review in the dataset.\n",
    "\n",
    "def stars(row):\n",
    "    if row.country == \"Canada\":\n",
    "        return 3\n",
    "    elif row.points >= 95:\n",
    "        return 3\n",
    "    elif row.points >= 85:\n",
    "        return 2\n",
    "    else:\n",
    "        return 1\n",
    "\n",
    "star_ratings = reviews.apply(stars, axis = \"columns\")"
   ]
  }
 ],
 "metadata": {
  "kernelspec": {
   "display_name": "Python 3",
   "language": "python",
   "name": "python3"
  },
  "language_info": {
   "codemirror_mode": {
    "name": "ipython",
    "version": 3
   },
   "file_extension": ".py",
   "mimetype": "text/x-python",
   "name": "python",
   "nbconvert_exporter": "python",
   "pygments_lexer": "ipython3",
   "version": "3.7.4"
  }
 },
 "nbformat": 4,
 "nbformat_minor": 2
}

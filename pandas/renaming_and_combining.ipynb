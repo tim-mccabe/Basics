{
 "cells": [
  {
   "cell_type": "code",
   "execution_count": 1,
   "metadata": {},
   "outputs": [],
   "source": [
    "# This file contains a few basic functions of pandas data types and missing values to refer back to when writing new code\n",
    "import pandas as pd"
   ]
  },
  {
   "cell_type": "code",
   "execution_count": null,
   "metadata": {},
   "outputs": [],
   "source": [
    "# region_1 and region_2 are pretty uninformative names for locale columns in the dataset. \n",
    "# Create a copy of reviews with these columns renamed to region and locale, respectively\n",
    "\n",
    "renamed = reviews.rename(columns={\"region_1\": \"region\", \"region_2\": \"locale\"})"
   ]
  },
  {
   "cell_type": "code",
   "execution_count": null,
   "metadata": {},
   "outputs": [],
   "source": [
    "# Set the index name in the dataset to wines\n",
    "\n",
    "reindexed = reviews.rename_axis(\"wines\", axis = \"rows\")"
   ]
  },
  {
   "cell_type": "code",
   "execution_count": null,
   "metadata": {},
   "outputs": [],
   "source": [
    "# The Things on Reddit dataset includes product links from a selection of top-ranked forums (\"subreddits\")\n",
    "# on reddit.com. Run the cell below to load a dataframe of products mentioned on the /r/gaming subreddit \n",
    "# and another dataframe for products mentioned on the r//movies subreddit.\n",
    "\n",
    "gaming_products = pd.read_csv(\"../input/things-on-reddit/top-things/top-things/reddits/g/gaming.csv\")\n",
    "gaming_products['subreddit'] = \"r/gaming\"\n",
    "movie_products = pd.read_csv(\"../input/things-on-reddit/top-things/top-things/reddits/m/movies.csv\")\n",
    "movie_products['subreddit'] = \"r/movies\""
   ]
  },
  {
   "cell_type": "code",
   "execution_count": null,
   "metadata": {},
   "outputs": [],
   "source": [
    "# Create a DataFrame of products mentioned on either subreddit.\n",
    "\n",
    "combined_products = pd.concat([gaming_products, movie_products])"
   ]
  },
  {
   "cell_type": "code",
   "execution_count": null,
   "metadata": {},
   "outputs": [],
   "source": [
    "# The Powerlifting Database dataset on Kaggle includes one CSV table for powerlifting meets and a separate \n",
    "# one for powerlifting competitors. Run the cell below to load these datasets into dataframes:\n",
    "\n",
    "powerlifting_meets = pd.read_csv(\"../input/powerlifting-database/meets.csv\")\n",
    "powerlifting_competitors = pd.read_csv(\"../input/powerlifting-database/openpowerlifting.csv\")"
   ]
  },
  {
   "cell_type": "code",
   "execution_count": null,
   "metadata": {},
   "outputs": [],
   "source": [
    "# Both tables include references to a MeetID, a unique key for each meet (competition) included in the database. \n",
    "# Using this, generate a dataset combining the two tables into one.\n",
    "\n",
    "powerlifting_combined = powerlifting_meets.set_index(\"MeetID\").join(powerlifting_competitors.set_index(\"MeetID\"))"
   ]
  }
 ],
 "metadata": {
  "kernelspec": {
   "display_name": "Python 3",
   "language": "python",
   "name": "python3"
  },
  "language_info": {
   "codemirror_mode": {
    "name": "ipython",
    "version": 3
   },
   "file_extension": ".py",
   "mimetype": "text/x-python",
   "name": "python",
   "nbconvert_exporter": "python",
   "pygments_lexer": "ipython3",
   "version": "3.7.4"
  }
 },
 "nbformat": 4,
 "nbformat_minor": 2
}

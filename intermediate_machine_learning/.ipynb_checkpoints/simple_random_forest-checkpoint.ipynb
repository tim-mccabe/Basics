{
 "cells": [
  {
   "cell_type": "code",
   "execution_count": 1,
   "metadata": {},
   "outputs": [],
   "source": [
    "# This file contains an intermediate approach to machine learning problems to \n",
    "# refer back to when writing new code\n",
    "\n",
    "import pandas as pd\n",
    "\n",
    "# read in the data\n",
    "X_full = pd.read_csv(\"data/train.csv\", index_col = \"Id\")\n",
    "X_test_full = pd.read_csv(\"data/test.csv\", index_col = \"Id\")"
   ]
  },
  {
   "cell_type": "code",
   "execution_count": 2,
   "metadata": {},
   "outputs": [],
   "source": [
    "# create test features and prediction targets\n",
    "from sklearn.model_selection import train_test_split\n",
    "\n",
    "# obtain target and predictors\n",
    "\n",
    "y = X_full.SalePrice\n",
    "features = [\"LotArea\", \"YearBuilt\", \"1stFlrSF\", \"2ndFlrSF\", \"BedroomAbvGr\", \"TotRmsAbvGrd\"]\n",
    "X = X_full[features]\n",
    "X_test = X_test_full[features]\n",
    "\n",
    "# break off validation set from training data\n",
    "\n",
    "X_train, X_valid, y_train, y_valid = train_test_split(X, y, train_size = 0.8, test_size = 0.2, random_state = 0)"
   ]
  },
  {
   "cell_type": "code",
   "execution_count": 3,
   "metadata": {},
   "outputs": [
    {
     "data": {
      "text/html": [
       "<div>\n",
       "<style scoped>\n",
       "    .dataframe tbody tr th:only-of-type {\n",
       "        vertical-align: middle;\n",
       "    }\n",
       "\n",
       "    .dataframe tbody tr th {\n",
       "        vertical-align: top;\n",
       "    }\n",
       "\n",
       "    .dataframe thead th {\n",
       "        text-align: right;\n",
       "    }\n",
       "</style>\n",
       "<table border=\"1\" class=\"dataframe\">\n",
       "  <thead>\n",
       "    <tr style=\"text-align: right;\">\n",
       "      <th></th>\n",
       "      <th>LotArea</th>\n",
       "      <th>YearBuilt</th>\n",
       "      <th>1stFlrSF</th>\n",
       "      <th>2ndFlrSF</th>\n",
       "      <th>BedroomAbvGr</th>\n",
       "      <th>TotRmsAbvGrd</th>\n",
       "    </tr>\n",
       "    <tr>\n",
       "      <th>Id</th>\n",
       "      <th></th>\n",
       "      <th></th>\n",
       "      <th></th>\n",
       "      <th></th>\n",
       "      <th></th>\n",
       "      <th></th>\n",
       "    </tr>\n",
       "  </thead>\n",
       "  <tbody>\n",
       "    <tr>\n",
       "      <td>619</td>\n",
       "      <td>11694</td>\n",
       "      <td>2007</td>\n",
       "      <td>1828</td>\n",
       "      <td>0</td>\n",
       "      <td>3</td>\n",
       "      <td>9</td>\n",
       "    </tr>\n",
       "    <tr>\n",
       "      <td>871</td>\n",
       "      <td>6600</td>\n",
       "      <td>1962</td>\n",
       "      <td>894</td>\n",
       "      <td>0</td>\n",
       "      <td>2</td>\n",
       "      <td>5</td>\n",
       "    </tr>\n",
       "    <tr>\n",
       "      <td>93</td>\n",
       "      <td>13360</td>\n",
       "      <td>1921</td>\n",
       "      <td>964</td>\n",
       "      <td>0</td>\n",
       "      <td>2</td>\n",
       "      <td>5</td>\n",
       "    </tr>\n",
       "    <tr>\n",
       "      <td>818</td>\n",
       "      <td>13265</td>\n",
       "      <td>2002</td>\n",
       "      <td>1689</td>\n",
       "      <td>0</td>\n",
       "      <td>3</td>\n",
       "      <td>7</td>\n",
       "    </tr>\n",
       "    <tr>\n",
       "      <td>303</td>\n",
       "      <td>13704</td>\n",
       "      <td>2001</td>\n",
       "      <td>1541</td>\n",
       "      <td>0</td>\n",
       "      <td>3</td>\n",
       "      <td>6</td>\n",
       "    </tr>\n",
       "  </tbody>\n",
       "</table>\n",
       "</div>"
      ],
      "text/plain": [
       "     LotArea  YearBuilt  1stFlrSF  2ndFlrSF  BedroomAbvGr  TotRmsAbvGrd\n",
       "Id                                                                     \n",
       "619    11694       2007      1828         0             3             9\n",
       "871     6600       1962       894         0             2             5\n",
       "93     13360       1921       964         0             2             5\n",
       "818    13265       2002      1689         0             3             7\n",
       "303    13704       2001      1541         0             3             6"
      ]
     },
     "execution_count": 3,
     "metadata": {},
     "output_type": "execute_result"
    }
   ],
   "source": [
    "# take a quick look at the training data features\n",
    "\n",
    "X_train.head()"
   ]
  },
  {
   "cell_type": "code",
   "execution_count": 7,
   "metadata": {},
   "outputs": [],
   "source": [
    "# create 5 different random forest models to determine which one is the best with the lowest MAE (mean absolute error)\n",
    "\n",
    "from sklearn.ensemble import RandomForestRegressor\n",
    "\n",
    "# define models\n",
    "\n",
    "model_1 = RandomForestRegressor(n_estimators = 50, random_state = 0)\n",
    "model_2 = RandomForestRegressor(n_estimators = 100, random_state = 0)\n",
    "model_3 = RandomForestRegressor(n_estimators = 100, criterion = \"mae\", random_state = 0)\n",
    "model_4 = RandomForestRegressor(n_estimators = 200, min_samples_split = 20, random_state = 0)\n",
    "model_5 = RandomForestRegressor(n_estimators = 50, max_depth = 7, random_state = 0)\n",
    "\n",
    "models = [model_1, model_2, model_3, model_4, model_5]"
   ]
  },
  {
   "cell_type": "code",
   "execution_count": 9,
   "metadata": {},
   "outputs": [
    {
     "name": "stdout",
     "output_type": "stream",
     "text": [
      "Model 1 MAE: 23690\n",
      "Model 2 MAE: 23635\n",
      "Model 3 MAE: 23549\n",
      "Model 4 MAE: 24024\n",
      "Model 5 MAE: 23794\n"
     ]
    }
   ],
   "source": [
    "# This function returns the mean absolute error (MAE) from the validation set.\n",
    "\n",
    "from sklearn.metrics import mean_absolute_error\n",
    "\n",
    "def score_model(model, X_t = X_train, X_v = X_valid, y_t = y_train, y_v = y_valid):\n",
    "    model.fit(X_t, y_t)\n",
    "    preds = model.predict(X_v)\n",
    "    return mean_absolute_error(y_v, preds)\n",
    "\n",
    "for i in range(len(models)):\n",
    "    mae = score_model(models[i])\n",
    "    print(\"Model %d MAE: %d\" % (i+1, mae))"
   ]
  },
  {
   "cell_type": "code",
   "execution_count": 10,
   "metadata": {},
   "outputs": [],
   "source": [
    "# use best model (model_3) to make predictions\n",
    "\n",
    "# fir the model to the training data\n",
    "model_3.fit(X, y)\n",
    "\n",
    "#generate predictions\n",
    "preds_test = model_3.predict(X_test)\n",
    "\n",
    "# save predictions in format used for Kaggle competition scoring\n",
    "output = pd.DataFrame({\"Id\": X_test.index,\n",
    "                      \"SalePrice\": preds_test})\n",
    "output.to_csv(\"data/submission_1.csv\", index = False)"
   ]
  },
  {
   "cell_type": "code",
   "execution_count": null,
   "metadata": {},
   "outputs": [],
   "source": []
  }
 ],
 "metadata": {
  "kernelspec": {
   "display_name": "Python 3",
   "language": "python",
   "name": "python3"
  },
  "language_info": {
   "codemirror_mode": {
    "name": "ipython",
    "version": 3
   },
   "file_extension": ".py",
   "mimetype": "text/x-python",
   "name": "python",
   "nbconvert_exporter": "python",
   "pygments_lexer": "ipython3",
   "version": "3.7.4"
  }
 },
 "nbformat": 4,
 "nbformat_minor": 2
}

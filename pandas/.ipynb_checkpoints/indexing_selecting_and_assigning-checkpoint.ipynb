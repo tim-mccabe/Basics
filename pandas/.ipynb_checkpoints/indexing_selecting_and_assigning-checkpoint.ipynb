{
 "cells": [
  {
   "cell_type": "code",
   "execution_count": 1,
   "metadata": {},
   "outputs": [],
   "source": [
    "# This file contains a few basic functions of pandas indexing, selecting, and assigning to refer back to when writing new code\n",
    "import pandas as pd"
   ]
  },
  {
   "cell_type": "code",
   "execution_count": null,
   "metadata": {},
   "outputs": [],
   "source": [
    "# Select the first value from the description column of reviews, assigning it to variable first_description\n",
    "\n",
    "first_description = reviews.iloc[0,1]"
   ]
  },
  {
   "cell_type": "code",
   "execution_count": null,
   "metadata": {},
   "outputs": [],
   "source": [
    "# Select the first row of data (the first record) from reviews, assigning it to the variable first_row\n",
    "\n",
    "first_row = reviews.iloc[0,:]"
   ]
  },
  {
   "cell_type": "code",
   "execution_count": null,
   "metadata": {},
   "outputs": [],
   "source": [
    "# Select the first 10 values from the description column in reviews, assigning the result to variable first_descriptions\n",
    "\n",
    "first_descriptions = reviews.description.iloc[0:10]"
   ]
  },
  {
   "cell_type": "code",
   "execution_count": null,
   "metadata": {},
   "outputs": [],
   "source": [
    "# Select the records with index labels 1, 2, 3, 5, and 8, assigning the result to the variable sample_reviews\n",
    "\n",
    "indicies = [1,2,3,5,8]\n",
    "sample_reviews = reviews.iloc[indicies]"
   ]
  },
  {
   "cell_type": "code",
   "execution_count": null,
   "metadata": {},
   "outputs": [],
   "source": [
    "# Create a variable df containing the country, province, region_1, and region_2 columns of the records with the index\n",
    "#labels 0, 1, 10, and 100\n",
    "\n",
    "new_indicies = [0,1,10,100]\n",
    "df = reviews[[\"country\", \"province\", \"region_1\", \"region_2\"]].iloc[new_indicies]"
   ]
  },
  {
   "cell_type": "code",
   "execution_count": null,
   "metadata": {},
   "outputs": [],
   "source": [
    "# Create a variable df containing the country and variety columns of the first 100 record\n",
    "\n",
    "df = reviews[[\"country\", \"variety\"]].iloc[0:100]"
   ]
  },
  {
   "cell_type": "code",
   "execution_count": null,
   "metadata": {},
   "outputs": [],
   "source": [
    "# Create a DataFrame italian_wines containing reviews of wines made in Italy\n",
    "\n",
    "italian_wines = reviews.loc[reviews.country == \"Italy\"]"
   ]
  },
  {
   "cell_type": "code",
   "execution_count": null,
   "metadata": {},
   "outputs": [],
   "source": [
    "# Create a DataFrame top_oceania_wines containing all reviews with at least 95 points (out of 100) \n",
    "# for wines from Australia or New Zealand\n",
    "\n",
    "top_oceania_wines = reviews.loc[(reviews.country.isin([\"Australia\", \"New Zealand\"])) & (reviews.points >= 95)]"
   ]
  }
 ],
 "metadata": {
  "kernelspec": {
   "display_name": "Python 3",
   "language": "python",
   "name": "python3"
  },
  "language_info": {
   "codemirror_mode": {
    "name": "ipython",
    "version": 3
   },
   "file_extension": ".py",
   "mimetype": "text/x-python",
   "name": "python",
   "nbconvert_exporter": "python",
   "pygments_lexer": "ipython3",
   "version": "3.7.4"
  }
 },
 "nbformat": 4,
 "nbformat_minor": 2
}

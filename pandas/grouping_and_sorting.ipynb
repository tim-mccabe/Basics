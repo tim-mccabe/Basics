{
 "cells": [
  {
   "cell_type": "code",
   "execution_count": 1,
   "metadata": {},
   "outputs": [],
   "source": [
    "# This file contains a few basic functions of pandas grouping and sorting to refer back to when writing new code\n",
    "import pandas as pd"
   ]
  },
  {
   "cell_type": "code",
   "execution_count": null,
   "metadata": {},
   "outputs": [],
   "source": [
    "# Who are the most common wine reviewers in the dataset? Create a Series whose index is the taster_twitter_handle \n",
    "# category from the dataset, and whose values count how many reviews each person wrote\n",
    "\n",
    "reviews_written = reviews.groupby(\"taster_twitter_handle\").size()"
   ]
  },
  {
   "cell_type": "code",
   "execution_count": null,
   "metadata": {},
   "outputs": [],
   "source": [
    "# What is the best wine I can buy for a given amount of money? Create a Series whose index is wine prices and \n",
    "# whose values is the maximum number of points a wine costing that much was given in a review. Sort the values \n",
    "# by price, ascending (so that 4.0 dollars is at the top and 3300.0 dollars is at the bottom).\n",
    "\n",
    "best_rating_per_price = reviews.groupby(\"price\")[\"points\"].max().sort_index()"
   ]
  },
  {
   "cell_type": "code",
   "execution_count": null,
   "metadata": {},
   "outputs": [],
   "source": [
    "# What are the minimum and maximum prices for each variety of wine? Create a DataFrame whose index is the \n",
    "# variety category from the dataset and whose values are the min and max values thereof.\n",
    "\n",
    "price_extremes = reviews.groupby(\"variety\").price.agg([min, max])"
   ]
  },
  {
   "cell_type": "code",
   "execution_count": null,
   "metadata": {},
   "outputs": [],
   "source": [
    "# What are the most expensive wine varieties? Create a variable sorted_varieties containing a copy of the dataframe \n",
    "# from the previous question where varieties are sorted in descending order based on minimum price, then on maximum \n",
    "# price (to break ties).\n",
    "\n",
    "sorted_varieties = price_extremes.sort_values(by=['min', 'max'], ascending=False)"
   ]
  },
  {
   "cell_type": "code",
   "execution_count": null,
   "metadata": {},
   "outputs": [],
   "source": [
    "# Create a Series whose index is reviewers and whose values is the average review score given out by that reviewer. \n",
    "# Hint: you will need the taster_name and points columns.\n",
    "\n",
    "reviewer_mean_ratings = reviews.groupby([\"taster_name\"]).points.mean()"
   ]
  },
  {
   "cell_type": "code",
   "execution_count": null,
   "metadata": {},
   "outputs": [],
   "source": [
    "# Are there significant differences in the average scores assigned by the various reviewers? \n",
    "# Run the cell below to use the describe() method to see a summary of the range of values.\n",
    "\n",
    "reviewer_mean_ratings.describe()"
   ]
  },
  {
   "cell_type": "code",
   "execution_count": null,
   "metadata": {},
   "outputs": [],
   "source": [
    "# What combination of countries and varieties are most common? Create a Series whose index is a MultiIndexof \n",
    "# {country, variety} pairs. For example, a pinot noir produced in the US should map to {\"US\", \"Pinot Noir\"}. Sort the \n",
    "# values in the Series in descending order based on wine count.\n",
    "\n",
    "country_variety_counts = reviews.groupby([\"country\", \"variety\"]).size().sort_values(ascending=False)"
   ]
  }
 ],
 "metadata": {
  "kernelspec": {
   "display_name": "Python 3",
   "language": "python",
   "name": "python3"
  },
  "language_info": {
   "codemirror_mode": {
    "name": "ipython",
    "version": 3
   },
   "file_extension": ".py",
   "mimetype": "text/x-python",
   "name": "python",
   "nbconvert_exporter": "python",
   "pygments_lexer": "ipython3",
   "version": "3.7.4"
  }
 },
 "nbformat": 4,
 "nbformat_minor": 2
}

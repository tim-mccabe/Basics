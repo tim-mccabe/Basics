{
 "cells": [
  {
   "cell_type": "code",
   "execution_count": 1,
   "metadata": {},
   "outputs": [],
   "source": [
    "# This file contains a few basic functions of feature engineering, specifically Feature Generation to \n",
    "# refer back to when writing new code\n",
    "\n",
    "import numpy as np\n",
    "import pandas as pd\n",
    "from sklearn import preprocessing, metrics\n",
    "import lightgbm as lgb\n",
    "\n",
    "# Create features from   timestamps\n",
    "click_data = pd.read_csv('data/train_sample.csv', \n",
    "                         parse_dates=['click_time'])\n",
    "click_times = click_data['click_time']\n",
    "clicks = click_data.assign(day=click_times.dt.day.astype('uint8'),\n",
    "                           hour=click_times.dt.hour.astype('uint8'),\n",
    "                           minute=click_times.dt.minute.astype('uint8'),\n",
    "                           second=click_times.dt.second.astype('uint8'))"
   ]
  },
  {
   "cell_type": "code",
   "execution_count": 2,
   "metadata": {},
   "outputs": [
    {
     "name": "stdout",
     "output_type": "stream",
     "text": [
      "Baseline model score\n",
      "Training model. Hold on a minute to see the validation score\n",
      "Validation AUC score: 0.9622743228943659\n"
     ]
    }
   ],
   "source": [
    "# Label encoding for categorical features\n",
    "cat_features = ['ip', 'app', 'device', 'os', 'channel']\n",
    "for feature in cat_features:\n",
    "    label_encoder = preprocessing.LabelEncoder()\n",
    "    clicks[feature] = label_encoder.fit_transform(clicks[feature])\n",
    "    \n",
    "def get_data_splits(dataframe, valid_fraction=0.1):\n",
    "\n",
    "    dataframe = dataframe.sort_values('click_time')\n",
    "    valid_rows = int(len(dataframe) * valid_fraction)\n",
    "    train = dataframe[:-valid_rows * 2]\n",
    "    # valid size == test size, last two sections of the data\n",
    "    valid = dataframe[-valid_rows * 2:-valid_rows]\n",
    "    test = dataframe[-valid_rows:]\n",
    "    \n",
    "    return train, valid, test\n",
    "\n",
    "def train_model(train, valid, test=None, feature_cols=None):\n",
    "    if feature_cols is None:\n",
    "        feature_cols = train.columns.drop(['click_time', 'attributed_time',\n",
    "                                           'is_attributed'])\n",
    "    dtrain = lgb.Dataset(train[feature_cols], label=train['is_attributed'])\n",
    "    dvalid = lgb.Dataset(valid[feature_cols], label=valid['is_attributed'])\n",
    "    \n",
    "    param = {'num_leaves': 64, 'objective': 'binary', \n",
    "             'metric': 'auc', 'seed': 7}\n",
    "    num_round = 1000\n",
    "    print(\"Training model. Hold on a minute to see the validation score\")\n",
    "    bst = lgb.train(param, dtrain, num_round, valid_sets=[dvalid], \n",
    "                    early_stopping_rounds=20, verbose_eval=False)\n",
    "    \n",
    "    valid_pred = bst.predict(valid[feature_cols])\n",
    "    valid_score = metrics.roc_auc_score(valid['is_attributed'], valid_pred)\n",
    "    print(f\"Validation AUC score: {valid_score}\")\n",
    "    \n",
    "    if test is not None: \n",
    "        test_pred = bst.predict(test[feature_cols])\n",
    "        test_score = metrics.roc_auc_score(test['is_attributed'], test_pred)\n",
    "        return bst, valid_score, test_score\n",
    "    else:\n",
    "        return bst, valid_score\n",
    "\n",
    "print(\"Baseline model score\")\n",
    "train, valid, test = get_data_splits(clicks)\n",
    "_ = train_model(train, valid)"
   ]
  },
  {
   "cell_type": "markdown",
   "metadata": {},
   "source": [
    "**Adding interaction features**"
   ]
  },
  {
   "cell_type": "markdown",
   "metadata": {},
   "source": [
    "Here you'll add interaction features for each pair of categorical features (ip, app, device, os, channel). The easiest way to iterate through the pairs of features is with itertools.combinations. For each new column, join the values as strings with an underscore, so 13 and 47 would become \"13_47\". As you add the new columns to the dataset, be sure to label encode the values."
   ]
  },
  {
   "cell_type": "code",
   "execution_count": 3,
   "metadata": {},
   "outputs": [],
   "source": [
    "import itertools\n",
    "\n",
    "cat_features = ['ip', 'app', 'device', 'os', 'channel']\n",
    "interactions = pd.DataFrame(index=clicks.index)\n",
    "\n",
    "# Iterate through each pair of features, combine them into interaction features\n",
    "for col_1, col_2 in itertools.combinations(cat_features, 2):\n",
    "    new_col_name = '_'.join([col_1, col_2])\n",
    "    \n",
    "    #convert to strings and combine\n",
    "    new_values = clicks[col_1].map(str) + \"_\" + clicks[col_2].map(str)\n",
    "    \n",
    "    encoder = preprocessing.LabelEncoder()\n",
    "    interactions[new_col_name] = encoder.fit_transform(new_values)"
   ]
  },
  {
   "cell_type": "code",
   "execution_count": 4,
   "metadata": {},
   "outputs": [
    {
     "name": "stdout",
     "output_type": "stream",
     "text": [
      "Score with interactions\n",
      "Training model. Hold on a minute to see the validation score\n",
      "Validation AUC score: 0.9626212895350978\n"
     ]
    }
   ],
   "source": [
    "clicks = clicks.join(interactions)\n",
    "print(\"Score with interactions\")\n",
    "train, valid, test = get_data_splits(clicks)\n",
    "_ = train_model(train, valid)"
   ]
  },
  {
   "cell_type": "markdown",
   "metadata": {},
   "source": [
    "**Generating numerical features**\n",
    "\n",
    "Adding interactions is a quick way to create more categorical features from the data. It's also effective to create new numerical features, you'll typically get a lot of improvement in the model. This takes a bit of brainstorming and experimentation to find features that work well."
   ]
  },
  {
   "cell_type": "markdown",
   "metadata": {},
   "source": [
    "**Number of events in the past six hours**\n",
    "\n",
    "The first feature you'll be creating is the number of events from the same IP in the last six hours. It's likely that someone who is visiting often will download the app."
   ]
  },
  {
   "cell_type": "code",
   "execution_count": 5,
   "metadata": {},
   "outputs": [],
   "source": [
    "# Implement a function count_past_events that takes a Series of click times (timestamps) and returns another Series with \n",
    "# the number of events in the last six hours. Tip: The rolling method is useful for this.\n",
    "\n",
    "def count_past_events(series, time_window='6H'):\n",
    "    series = pd.Series(series.index, index=series)\n",
    "    # Subtract 1 so the current event isn't counted\n",
    "    past_events = series.rolling(time_window).count() - 1\n",
    "    return past_events"
   ]
  },
  {
   "cell_type": "code",
   "execution_count": 8,
   "metadata": {},
   "outputs": [
    {
     "name": "stdout",
     "output_type": "stream",
     "text": [
      "Training model. Hold on a minute to see the validation score\n",
      "Validation AUC score: 0.9647255487084245\n"
     ]
    }
   ],
   "source": [
    "# Loading in from saved Parquet file\n",
    "past_events = pd.read_parquet('data/past_6hr_events.pqt')\n",
    "clicks['ip_past_6hr_counts'] = past_events\n",
    "\n",
    "train, valid, test = get_data_splits(clicks)\n",
    "_ = train_model(train, valid)"
   ]
  },
  {
   "cell_type": "markdown",
   "metadata": {},
   "source": [
    "**Features from future information**\n",
    "\n",
    "In general, you shouldn't use information from the future. When you're using models like this in a real-world scenario you won't have data from the future. Your model's score will likely be higher when training and testing on historical data, but it will overestimate the performance on real data. I should note that using future data will improve the score on Kaggle competition test data, but avoid it when building machine learning products."
   ]
  },
  {
   "cell_type": "markdown",
   "metadata": {},
   "source": [
    "**Time since last event**"
   ]
  },
  {
   "cell_type": "code",
   "execution_count": 10,
   "metadata": {},
   "outputs": [],
   "source": [
    "# Implement a function time_diff that calculates the time since the last event in seconds from a Series of timestamps\n",
    "\n",
    "def time_diff(series):\n",
    "    \"\"\"Returns a series with the time since the last timestamp in seconds.\"\"\"\n",
    "    return series.diff().dt.total_seconds()"
   ]
  },
  {
   "cell_type": "code",
   "execution_count": 11,
   "metadata": {},
   "outputs": [
    {
     "name": "stdout",
     "output_type": "stream",
     "text": [
      "Training model. Hold on a minute to see the validation score\n",
      "Validation AUC score: 0.9651116624672765\n"
     ]
    }
   ],
   "source": [
    "# Loading in from saved Parquet file\n",
    "past_events = pd.read_parquet('data/time_deltas.pqt')\n",
    "clicks['past_events_6hr'] = past_events\n",
    "\n",
    "train, valid, test = get_data_splits(clicks.join(past_events))\n",
    "_ = train_model(train, valid)"
   ]
  },
  {
   "cell_type": "markdown",
   "metadata": {},
   "source": [
    "**Number of previous app downloads**\n",
    "\n",
    "It's likely that if a visitor downloaded an app previously, it'll affect the likelihood they'll download one again. Implement a function previous_attributions that returns a Series with the number of times an app has been downloaded ('is_attributed' == 1) before the current event."
   ]
  },
  {
   "cell_type": "code",
   "execution_count": 12,
   "metadata": {},
   "outputs": [],
   "source": [
    "def previous_attributions(series):\n",
    "    \"\"\"Returns a series with the number of times an app has been downloaded.\"\"\"\n",
    "    # Subtracting raw values so I don't count the current event\n",
    "    sums = series.expanding(min_periods=2).sum() - series\n",
    "    return sums"
   ]
  },
  {
   "cell_type": "code",
   "execution_count": 13,
   "metadata": {},
   "outputs": [
    {
     "name": "stdout",
     "output_type": "stream",
     "text": [
      "Training model. Hold on a minute to see the validation score\n",
      "Validation AUC score: 0.965236652054989\n"
     ]
    }
   ],
   "source": [
    "# Loading in from saved Parquet file\n",
    "past_events = pd.read_parquet('data/downloads.pqt')\n",
    "clicks['ip_past_6hr_counts'] = past_events\n",
    "\n",
    "train, valid, test = get_data_splits(clicks)\n",
    "_ = train_model(train, valid)"
   ]
  },
  {
   "cell_type": "markdown",
   "metadata": {},
   "source": [
    "**Tree-based vs Neural Network Models**\n",
    "\n",
    "So far we've been using LightGBM, a tree-based model. Would these features we've generated work well for neural networks as well as tree-based models?\n",
    "\n",
    "The features themselves will work for either model. However, numerical inputs to neural networks need to be standardized first. That is, the features need to be scaled such that they have 0 mean and a standard deviation of 1. This can be done using sklearn.preprocessing.StandardScaler."
   ]
  }
 ],
 "metadata": {
  "kernelspec": {
   "display_name": "Python 3",
   "language": "python",
   "name": "python3"
  },
  "language_info": {
   "codemirror_mode": {
    "name": "ipython",
    "version": 3
   },
   "file_extension": ".py",
   "mimetype": "text/x-python",
   "name": "python",
   "nbconvert_exporter": "python",
   "pygments_lexer": "ipython3",
   "version": "3.7.4"
  }
 },
 "nbformat": 4,
 "nbformat_minor": 2
}
